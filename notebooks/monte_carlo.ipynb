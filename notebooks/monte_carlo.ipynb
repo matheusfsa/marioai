{
 "cells": [
  {
   "cell_type": "code",
   "execution_count": 29,
   "metadata": {},
   "outputs": [],
   "source": [
    "import sys\n",
    "sys.path.insert(0, \"/home/matheus/projects/marioai\")\n",
    "\n",
    "from marioai.core import Runner\n",
    "from marioai.agents import BaseAgent\n",
    "import pandas as pd\n",
    "import numpy as np\n",
    "import random\n",
    "from copy import deepcopy\n",
    "import matplotlib.pyplot as plt\n",
    "from tqdm import tqdm"
   ]
  },
  {
   "cell_type": "code",
   "execution_count": 61,
   "metadata": {},
   "outputs": [],
   "source": [
    "class State():\n",
    "    def __init__(self, **kwargs):\n",
    "        self.state_attrs = []\n",
    "        for key, value in kwargs.items():\n",
    "            setattr(self, key, value)\n",
    "            self.state_attrs.append(key)\n",
    "    \n",
    "    def __repr__(self):\n",
    "        repr_str = \"State(\"\n",
    "        for attr in self.state_attrs:\n",
    "            repr_str += f\"{attr}={getattr(self, attr)}, \"\n",
    "        return repr_str\n",
    "    def __hash__(self):\n",
    "        attrs = []\n",
    "        for attr in self.state_attrs:\n",
    "            attrs.append(attr)\n",
    "        return hash(tuple(attrs))\n",
    "\n",
    "    def __eq__(self, other):\n",
    "        for attr in self.state_attrs:\n",
    "            if getattr(self, attr) != getattr(other, attr):\n",
    "                return False\n",
    "        return True\n",
    "        \n",
    "class MonteCarloAgent(BaseAgent):\n",
    "\n",
    "    def __init__(self, n_samples, discount, min_epsilon=0.3):\n",
    "        super().__init__()\n",
    "        self.n_samples = n_samples\n",
    "        self.discount = discount\n",
    "        self.in_fit = False\n",
    "        self.min_epsilon = min_epsilon\n",
    "        self.epsilon = 1\n",
    "        self.value_func = {}\n",
    "        self._N = {}\n",
    "        self._S = {}\n",
    "        self._Q = {}\n",
    "        self.actions_idx = []\n",
    "        self.fit_rewards = []\n",
    "\n",
    "    def compute_reward(self, reward_data):\n",
    "        if reward_data[\"status\"] == 1:\n",
    "            return reward_data[\"distance\"]\n",
    "        if \"distance\" in reward_data:\n",
    "            return reward_data[\"distance\"] * 1e-1\n",
    "        return 0\n",
    "    def policy(self, state, kind=\"random\"):\n",
    "        \n",
    "        if kind == \"random\":\n",
    "            action_idx = np.random.randint(self._Q[state].shape[0])\n",
    "        elif kind == \"greedy\":\n",
    "            action_idx = self._Q[state].argmax()\n",
    "        elif kind == \"e_greedy\":\n",
    "            if np.random.random() > self.epsilon:\n",
    "                action_idx = self._Q[state].argmax()\n",
    "            else:\n",
    "                action_idx = np.random.randint(self._Q[state].shape[0])\n",
    "        self.actions_idx.append(action_idx)\n",
    "        return action_idx\n",
    "\n",
    "    def filter_actions(self) -> np.array:\n",
    "        \"\"\"This function filter the action pool\"\"\"\n",
    "        action_pool = np.copy(self._action_pool)\n",
    "        return action_pool\n",
    "\n",
    "    def _fit_act(self, action_pool):\n",
    "        state = State(**self.state)\n",
    "        if state not in self._Q:\n",
    "            self._Q[state] = np.zeros(action_pool.shape[0])\n",
    "        action_idx = self.policy(state, kind=\"e_greedy\")\n",
    "        action = action_pool[action_idx].tolist()\n",
    "        return action\n",
    "\n",
    "    def act(self):\n",
    "        action_pool = self.filter_actions()\n",
    "        if self.in_fit:\n",
    "            action = self._fit_act(action_pool)\n",
    "        else:\n",
    "            state = State(**self.state)\n",
    "            if state not in self._Q:\n",
    "                self._Q[state] = np.zeros(action_pool.shape[0])\n",
    "            action_idx = self.policy(state, kind=\"greedy\")\n",
    "            action = action_pool[action_idx].tolist()\n",
    "        self.actions.append(action)\n",
    "        return action\n",
    "\n",
    "    def fit(self, **runner_kwargs):\n",
    "        self.in_fit = True\n",
    "        runner = Runner(self, **runner_kwargs)\n",
    "        self.epsilon = 1.\n",
    "        for k in (pbar :=tqdm(range(self.n_samples), total=self.n_samples)):\n",
    "            runner.run()\n",
    "            self.fit_rewards.append(self._step())\n",
    "            self.epsilon = max(self.min_epsilon, self.epsilon - 1/(self.n_samples))\n",
    "            pbar.set_description(f\"Last Reward {self.fit_rewards[-1]:.2f} Epsilon: {self.epsilon:.3f}\")\n",
    "            pbar.refresh()\n",
    "\n",
    "        runner.close()\n",
    "        self.in_fit = False\n",
    "        return self\n",
    "\n",
    "    def reset(self):\n",
    "        self.states = []\n",
    "        self.rewards =  []\n",
    "        self.actions = []\n",
    "        self.actions_idx = []\n",
    "\n",
    "    def _step(self):\n",
    "        \n",
    "        visited_states = []\n",
    "        rewards = np.array(list(map(self.compute_reward, self.rewards)))\n",
    "        prev_Q = deepcopy(self._Q)\n",
    "        for i, (state_dict, action) in enumerate(zip(self.states, self.actions_idx)):\n",
    "            state = State(**state_dict)\n",
    "            if state not in visited_states:\n",
    "                visited_states.append(state)\n",
    "            if state not in self._N:\n",
    "               self._N[state] = np.zeros(self._Q[state].shape[0])\n",
    "            self._N[state][action] += 1\n",
    "            future_rewards = rewards[i:]\n",
    "            discounts = np.array([self.epsilon ** k for k in range(future_rewards.shape[0])])\n",
    "            g_t = np.dot(discounts, future_rewards)/self.n_samples\n",
    "            q_value = prev_Q[state][action]\n",
    "            self._Q[state][action] = q_value + (1/self._N[state][action])*(g_t - q_value)\n",
    "        return rewards.sum()"
   ]
  },
  {
   "cell_type": "code",
   "execution_count": 66,
   "metadata": {},
   "outputs": [
    {
     "name": "stdout",
     "output_type": "stream",
     "text": [
      "/home/matheus/projects/marioai/notebooks\n",
      "Connection attempt: 1/5\n",
      "Connection attempt: 2/5\n",
      "Connection attempt: 3/5\n"
     ]
    },
    {
     "name": "stderr",
     "output_type": "stream",
     "text": [
      "Last Reward 36.66 Epsilon: 0.775:  22%|██▎       | 18/80 [02:10<07:28,  7.23s/it]\n"
     ]
    },
    {
     "ename": "KeyboardInterrupt",
     "evalue": "",
     "output_type": "error",
     "traceback": [
      "\u001b[0;31m---------------------------------------------------------------------------\u001b[0m",
      "\u001b[0;31mKeyboardInterrupt\u001b[0m                         Traceback (most recent call last)",
      "\u001b[1;32m/home/matheus/projects/marioai/notebooks/monte_carlo.ipynb Cell 3'\u001b[0m in \u001b[0;36m<cell line: 2>\u001b[0;34m()\u001b[0m\n\u001b[1;32m      <a href='vscode-notebook-cell:/home/matheus/projects/marioai/notebooks/monte_carlo.ipynb#ch0000002?line=0'>1</a>\u001b[0m mc_model \u001b[39m=\u001b[39m MonteCarloAgent(\u001b[39m80\u001b[39m, \u001b[39m0.99\u001b[39m, min_epsilon\u001b[39m=\u001b[39m\u001b[39m0.5\u001b[39m)\n\u001b[0;32m----> <a href='vscode-notebook-cell:/home/matheus/projects/marioai/notebooks/monte_carlo.ipynb#ch0000002?line=1'>2</a>\u001b[0m mc_model \u001b[39m=\u001b[39m mc_model\u001b[39m.\u001b[39;49mfit(level_difficult\u001b[39m=\u001b[39;49m\u001b[39m0\u001b[39;49m, mario_mode\u001b[39m=\u001b[39;49m\u001b[39m0\u001b[39;49m, time_limit\u001b[39m=\u001b[39;49m\u001b[39m100\u001b[39;49m, response_delay\u001b[39m=\u001b[39;49m\u001b[39m0\u001b[39;49m, max_fps\u001b[39m=\u001b[39;49m\u001b[39m360\u001b[39;49m)\n",
      "\u001b[1;32m/home/matheus/projects/marioai/notebooks/monte_carlo.ipynb Cell 2'\u001b[0m in \u001b[0;36mMonteCarloAgent.fit\u001b[0;34m(self, **runner_kwargs)\u001b[0m\n\u001b[1;32m     <a href='vscode-notebook-cell:/home/matheus/projects/marioai/notebooks/monte_carlo.ipynb#ch0000001?line=89'>90</a>\u001b[0m \u001b[39mself\u001b[39m\u001b[39m.\u001b[39mepsilon \u001b[39m=\u001b[39m \u001b[39m1.\u001b[39m\n\u001b[1;32m     <a href='vscode-notebook-cell:/home/matheus/projects/marioai/notebooks/monte_carlo.ipynb#ch0000001?line=90'>91</a>\u001b[0m \u001b[39mfor\u001b[39;00m k \u001b[39min\u001b[39;00m (pbar \u001b[39m:=\u001b[39mtqdm(\u001b[39mrange\u001b[39m(\u001b[39mself\u001b[39m\u001b[39m.\u001b[39mn_samples), total\u001b[39m=\u001b[39m\u001b[39mself\u001b[39m\u001b[39m.\u001b[39mn_samples)):\n\u001b[0;32m---> <a href='vscode-notebook-cell:/home/matheus/projects/marioai/notebooks/monte_carlo.ipynb#ch0000001?line=91'>92</a>\u001b[0m     runner\u001b[39m.\u001b[39;49mrun()\n\u001b[1;32m     <a href='vscode-notebook-cell:/home/matheus/projects/marioai/notebooks/monte_carlo.ipynb#ch0000001?line=92'>93</a>\u001b[0m     \u001b[39mself\u001b[39m\u001b[39m.\u001b[39mfit_rewards\u001b[39m.\u001b[39mappend(\u001b[39mself\u001b[39m\u001b[39m.\u001b[39m_step())\n\u001b[1;32m     <a href='vscode-notebook-cell:/home/matheus/projects/marioai/notebooks/monte_carlo.ipynb#ch0000001?line=93'>94</a>\u001b[0m     \u001b[39mself\u001b[39m\u001b[39m.\u001b[39mepsilon \u001b[39m=\u001b[39m \u001b[39mmax\u001b[39m(\u001b[39mself\u001b[39m\u001b[39m.\u001b[39mmin_epsilon, \u001b[39mself\u001b[39m\u001b[39m.\u001b[39mepsilon \u001b[39m-\u001b[39m \u001b[39m1\u001b[39m\u001b[39m/\u001b[39m(\u001b[39mself\u001b[39m\u001b[39m.\u001b[39mn_samples))\n",
      "File \u001b[0;32m~/projects/marioai/marioai/core/runner.py:57\u001b[0m, in \u001b[0;36mRunner.run\u001b[0;34m(self)\u001b[0m\n\u001b[1;32m     <a href='file:///home/matheus/projects/marioai/marioai/core/runner.py?line=51'>52</a>\u001b[0m \u001b[39mdef\u001b[39;00m \u001b[39mrun\u001b[39m(\u001b[39mself\u001b[39m) \u001b[39m-\u001b[39m\u001b[39m>\u001b[39m List:\n\u001b[1;32m     <a href='file:///home/matheus/projects/marioai/marioai/core/runner.py?line=52'>53</a>\u001b[0m     \u001b[39m\"\"\"This function execute a game\u001b[39;00m\n\u001b[1;32m     <a href='file:///home/matheus/projects/marioai/marioai/core/runner.py?line=53'>54</a>\u001b[0m \u001b[39m    Returns:\u001b[39;00m\n\u001b[1;32m     <a href='file:///home/matheus/projects/marioai/marioai/core/runner.py?line=54'>55</a>\u001b[0m \u001b[39m        List: Rewards\u001b[39;00m\n\u001b[1;32m     <a href='file:///home/matheus/projects/marioai/marioai/core/runner.py?line=55'>56</a>\u001b[0m \u001b[39m    \"\"\"\u001b[39;00m\n\u001b[0;32m---> <a href='file:///home/matheus/projects/marioai/marioai/core/runner.py?line=56'>57</a>\u001b[0m     rewards \u001b[39m=\u001b[39m \u001b[39mself\u001b[39;49m\u001b[39m.\u001b[39;49mexp\u001b[39m.\u001b[39;49mdo_episodes()\n\u001b[1;32m     <a href='file:///home/matheus/projects/marioai/marioai/core/runner.py?line=57'>58</a>\u001b[0m     \u001b[39mreturn\u001b[39;00m rewards\n",
      "File \u001b[0;32m~/projects/marioai/marioai/core/experiment.py:49\u001b[0m, in \u001b[0;36mExperiment.do_episodes\u001b[0;34m(self, n)\u001b[0m\n\u001b[1;32m     <a href='file:///home/matheus/projects/marioai/marioai/core/experiment.py?line=45'>46</a>\u001b[0m rewards \u001b[39m=\u001b[39m []\n\u001b[1;32m     <a href='file:///home/matheus/projects/marioai/marioai/core/experiment.py?line=47'>48</a>\u001b[0m \u001b[39mfor\u001b[39;00m _ \u001b[39min\u001b[39;00m \u001b[39mrange\u001b[39m(n):\n\u001b[0;32m---> <a href='file:///home/matheus/projects/marioai/marioai/core/experiment.py?line=48'>49</a>\u001b[0m     rewards\u001b[39m.\u001b[39mappend(\u001b[39mself\u001b[39;49m\u001b[39m.\u001b[39;49m_episode())\n\u001b[1;32m     <a href='file:///home/matheus/projects/marioai/marioai/core/experiment.py?line=49'>50</a>\u001b[0m \u001b[39mreturn\u001b[39;00m rewards\n",
      "File \u001b[0;32m~/projects/marioai/marioai/core/experiment.py:37\u001b[0m, in \u001b[0;36mExperiment._episode\u001b[0;34m(self)\u001b[0m\n\u001b[1;32m     <a href='file:///home/matheus/projects/marioai/marioai/core/experiment.py?line=34'>35</a>\u001b[0m \u001b[39mself\u001b[39m\u001b[39m.\u001b[39mtask\u001b[39m.\u001b[39mreset()\n\u001b[1;32m     <a href='file:///home/matheus/projects/marioai/marioai/core/experiment.py?line=35'>36</a>\u001b[0m \u001b[39mwhile\u001b[39;00m \u001b[39mnot\u001b[39;00m \u001b[39mself\u001b[39m\u001b[39m.\u001b[39mtask\u001b[39m.\u001b[39mfinished:\n\u001b[0;32m---> <a href='file:///home/matheus/projects/marioai/marioai/core/experiment.py?line=36'>37</a>\u001b[0m     r \u001b[39m=\u001b[39m \u001b[39mself\u001b[39;49m\u001b[39m.\u001b[39;49m_step()\n\u001b[1;32m     <a href='file:///home/matheus/projects/marioai/marioai/core/experiment.py?line=37'>38</a>\u001b[0m     rewards\u001b[39m.\u001b[39mappend(r)\n\u001b[1;32m     <a href='file:///home/matheus/projects/marioai/marioai/core/experiment.py?line=39'>40</a>\u001b[0m     \u001b[39mif\u001b[39;00m \u001b[39mself\u001b[39m\u001b[39m.\u001b[39mmax_fps \u001b[39m>\u001b[39m \u001b[39m0\u001b[39m:\n",
      "File \u001b[0;32m~/projects/marioai/marioai/core/experiment.py:24\u001b[0m, in \u001b[0;36mExperiment._step\u001b[0;34m(self)\u001b[0m\n\u001b[1;32m     <a href='file:///home/matheus/projects/marioai/marioai/core/experiment.py?line=21'>22</a>\u001b[0m \u001b[39mif\u001b[39;00m \u001b[39mself\u001b[39m\u001b[39m.\u001b[39mtask\u001b[39m.\u001b[39mfinished \u001b[39mor\u001b[39;00m (\u001b[39mself\u001b[39m\u001b[39m.\u001b[39m_frame \u001b[39m%\u001b[39m (\u001b[39mself\u001b[39m\u001b[39m.\u001b[39mresponse_delay \u001b[39m+\u001b[39m \u001b[39m1\u001b[39m)) \u001b[39m==\u001b[39m \u001b[39m0\u001b[39m:\n\u001b[1;32m     <a href='file:///home/matheus/projects/marioai/marioai/core/experiment.py?line=22'>23</a>\u001b[0m     \u001b[39mself\u001b[39m\u001b[39m.\u001b[39magent\u001b[39m.\u001b[39msense(sensors)\n\u001b[0;32m---> <a href='file:///home/matheus/projects/marioai/marioai/core/experiment.py?line=23'>24</a>\u001b[0m     \u001b[39mself\u001b[39m\u001b[39m.\u001b[39mtask\u001b[39m.\u001b[39mperform_action(\u001b[39mself\u001b[39;49m\u001b[39m.\u001b[39;49magent\u001b[39m.\u001b[39;49mact())\n\u001b[1;32m     <a href='file:///home/matheus/projects/marioai/marioai/core/experiment.py?line=24'>25</a>\u001b[0m     \u001b[39mself\u001b[39m\u001b[39m.\u001b[39magent\u001b[39m.\u001b[39mgive_rewards(\u001b[39mself\u001b[39m\u001b[39m.\u001b[39mtask\u001b[39m.\u001b[39mreward, \u001b[39mself\u001b[39m\u001b[39m.\u001b[39mtask\u001b[39m.\u001b[39mcum_reward)\n\u001b[1;32m     <a href='file:///home/matheus/projects/marioai/marioai/core/experiment.py?line=25'>26</a>\u001b[0m \u001b[39melse\u001b[39;00m:\n",
      "\u001b[1;32m/home/matheus/projects/marioai/notebooks/monte_carlo.ipynb Cell 2'\u001b[0m in \u001b[0;36mMonteCarloAgent.act\u001b[0;34m(self)\u001b[0m\n\u001b[1;32m     <a href='vscode-notebook-cell:/home/matheus/projects/marioai/notebooks/monte_carlo.ipynb#ch0000001?line=74'>75</a>\u001b[0m action_pool \u001b[39m=\u001b[39m \u001b[39mself\u001b[39m\u001b[39m.\u001b[39mfilter_actions()\n\u001b[1;32m     <a href='vscode-notebook-cell:/home/matheus/projects/marioai/notebooks/monte_carlo.ipynb#ch0000001?line=75'>76</a>\u001b[0m \u001b[39mif\u001b[39;00m \u001b[39mself\u001b[39m\u001b[39m.\u001b[39min_fit:\n\u001b[0;32m---> <a href='vscode-notebook-cell:/home/matheus/projects/marioai/notebooks/monte_carlo.ipynb#ch0000001?line=76'>77</a>\u001b[0m     action \u001b[39m=\u001b[39m \u001b[39mself\u001b[39;49m\u001b[39m.\u001b[39;49m_fit_act(action_pool)\n\u001b[1;32m     <a href='vscode-notebook-cell:/home/matheus/projects/marioai/notebooks/monte_carlo.ipynb#ch0000001?line=77'>78</a>\u001b[0m \u001b[39melse\u001b[39;00m:\n\u001b[1;32m     <a href='vscode-notebook-cell:/home/matheus/projects/marioai/notebooks/monte_carlo.ipynb#ch0000001?line=78'>79</a>\u001b[0m     state \u001b[39m=\u001b[39m State(\u001b[39m*\u001b[39m\u001b[39m*\u001b[39m\u001b[39mself\u001b[39m\u001b[39m.\u001b[39mstate)\n",
      "\u001b[1;32m/home/matheus/projects/marioai/notebooks/monte_carlo.ipynb Cell 2'\u001b[0m in \u001b[0;36mMonteCarloAgent._fit_act\u001b[0;34m(self, action_pool)\u001b[0m\n\u001b[1;32m     <a href='vscode-notebook-cell:/home/matheus/projects/marioai/notebooks/monte_carlo.ipynb#ch0000001?line=67'>68</a>\u001b[0m \u001b[39mif\u001b[39;00m state \u001b[39mnot\u001b[39;00m \u001b[39min\u001b[39;00m \u001b[39mself\u001b[39m\u001b[39m.\u001b[39m_Q:\n\u001b[1;32m     <a href='vscode-notebook-cell:/home/matheus/projects/marioai/notebooks/monte_carlo.ipynb#ch0000001?line=68'>69</a>\u001b[0m     \u001b[39mself\u001b[39m\u001b[39m.\u001b[39m_Q[state] \u001b[39m=\u001b[39m np\u001b[39m.\u001b[39mzeros(action_pool\u001b[39m.\u001b[39mshape[\u001b[39m0\u001b[39m])\n\u001b[0;32m---> <a href='vscode-notebook-cell:/home/matheus/projects/marioai/notebooks/monte_carlo.ipynb#ch0000001?line=69'>70</a>\u001b[0m action_idx \u001b[39m=\u001b[39m \u001b[39mself\u001b[39;49m\u001b[39m.\u001b[39;49mpolicy(state, kind\u001b[39m=\u001b[39;49m\u001b[39m\"\u001b[39;49m\u001b[39me_greedy\u001b[39;49m\u001b[39m\"\u001b[39;49m)\n\u001b[1;32m     <a href='vscode-notebook-cell:/home/matheus/projects/marioai/notebooks/monte_carlo.ipynb#ch0000001?line=70'>71</a>\u001b[0m action \u001b[39m=\u001b[39m action_pool[action_idx]\u001b[39m.\u001b[39mtolist()\n\u001b[1;32m     <a href='vscode-notebook-cell:/home/matheus/projects/marioai/notebooks/monte_carlo.ipynb#ch0000001?line=71'>72</a>\u001b[0m \u001b[39mreturn\u001b[39;00m action\n",
      "\u001b[1;32m/home/matheus/projects/marioai/notebooks/monte_carlo.ipynb Cell 2'\u001b[0m in \u001b[0;36mMonteCarloAgent.policy\u001b[0;34m(self, state, kind)\u001b[0m\n\u001b[1;32m     <a href='vscode-notebook-cell:/home/matheus/projects/marioai/notebooks/monte_carlo.ipynb#ch0000001?line=52'>53</a>\u001b[0m \u001b[39melif\u001b[39;00m kind \u001b[39m==\u001b[39m \u001b[39m\"\u001b[39m\u001b[39me_greedy\u001b[39m\u001b[39m\"\u001b[39m:\n\u001b[1;32m     <a href='vscode-notebook-cell:/home/matheus/projects/marioai/notebooks/monte_carlo.ipynb#ch0000001?line=53'>54</a>\u001b[0m     \u001b[39mif\u001b[39;00m np\u001b[39m.\u001b[39mrandom\u001b[39m.\u001b[39mrandom() \u001b[39m>\u001b[39m \u001b[39mself\u001b[39m\u001b[39m.\u001b[39mepsilon:\n\u001b[0;32m---> <a href='vscode-notebook-cell:/home/matheus/projects/marioai/notebooks/monte_carlo.ipynb#ch0000001?line=54'>55</a>\u001b[0m         action_idx \u001b[39m=\u001b[39m \u001b[39mself\u001b[39;49m\u001b[39m.\u001b[39;49m_Q[state]\u001b[39m.\u001b[39margmax()\n\u001b[1;32m     <a href='vscode-notebook-cell:/home/matheus/projects/marioai/notebooks/monte_carlo.ipynb#ch0000001?line=55'>56</a>\u001b[0m     \u001b[39melse\u001b[39;00m:\n\u001b[1;32m     <a href='vscode-notebook-cell:/home/matheus/projects/marioai/notebooks/monte_carlo.ipynb#ch0000001?line=56'>57</a>\u001b[0m         action_idx \u001b[39m=\u001b[39m np\u001b[39m.\u001b[39mrandom\u001b[39m.\u001b[39mrandint(\u001b[39mself\u001b[39m\u001b[39m.\u001b[39m_Q[state]\u001b[39m.\u001b[39mshape[\u001b[39m0\u001b[39m])\n",
      "\u001b[1;32m/home/matheus/projects/marioai/notebooks/monte_carlo.ipynb Cell 2'\u001b[0m in \u001b[0;36mState.__hash__\u001b[0;34m(self)\u001b[0m\n\u001b[1;32m     <a href='vscode-notebook-cell:/home/matheus/projects/marioai/notebooks/monte_carlo.ipynb#ch0000001?line=10'>11</a>\u001b[0m         repr_str \u001b[39m+\u001b[39m\u001b[39m=\u001b[39m \u001b[39mf\u001b[39m\u001b[39m\"\u001b[39m\u001b[39m{\u001b[39;00mattr\u001b[39m}\u001b[39;00m\u001b[39m=\u001b[39m\u001b[39m{\u001b[39;00m\u001b[39mgetattr\u001b[39m(\u001b[39mself\u001b[39m, attr)\u001b[39m}\u001b[39;00m\u001b[39m, \u001b[39m\u001b[39m\"\u001b[39m\n\u001b[1;32m     <a href='vscode-notebook-cell:/home/matheus/projects/marioai/notebooks/monte_carlo.ipynb#ch0000001?line=11'>12</a>\u001b[0m     \u001b[39mreturn\u001b[39;00m repr_str\n\u001b[0;32m---> <a href='vscode-notebook-cell:/home/matheus/projects/marioai/notebooks/monte_carlo.ipynb#ch0000001?line=12'>13</a>\u001b[0m \u001b[39mdef\u001b[39;00m \u001b[39m__hash__\u001b[39m(\u001b[39mself\u001b[39m):\n\u001b[1;32m     <a href='vscode-notebook-cell:/home/matheus/projects/marioai/notebooks/monte_carlo.ipynb#ch0000001?line=13'>14</a>\u001b[0m     attrs \u001b[39m=\u001b[39m []\n\u001b[1;32m     <a href='vscode-notebook-cell:/home/matheus/projects/marioai/notebooks/monte_carlo.ipynb#ch0000001?line=14'>15</a>\u001b[0m     \u001b[39mfor\u001b[39;00m attr \u001b[39min\u001b[39;00m \u001b[39mself\u001b[39m\u001b[39m.\u001b[39mstate_attrs:\n",
      "\u001b[0;31mKeyboardInterrupt\u001b[0m: "
     ]
    }
   ],
   "source": [
    "mc_model = MonteCarloAgent(80, 0.99, min_epsilon=0.5)\n",
    "mc_model = mc_model.fit(level_difficult=0, mario_mode=0, time_limit=100, response_delay=0, max_fps=360)"
   ]
  },
  {
   "cell_type": "code",
   "execution_count": 63,
   "metadata": {},
   "outputs": [
    {
     "data": {
      "text/plain": [
       "[<matplotlib.lines.Line2D at 0x7f72bb12fbb0>]"
      ]
     },
     "execution_count": 63,
     "metadata": {},
     "output_type": "execute_result"
    },
    {
     "data": {
      "image/png": "[encoded data removed]",
      "text/plain": [
       "<Figure size 432x288 with 1 Axes>"
      ]
     },
     "metadata": {
      "needs_background": "light"
     },
     "output_type": "display_data"
    }
   ],
   "source": [
    "\n",
    "plt.plot(range(len(mc_model.fit_rewards)), mc_model.fit_rewards)"
   ]
  },
  {
   "cell_type": "code",
   "execution_count": 65,
   "metadata": {},
   "outputs": [
    {
     "name": "stdout",
     "output_type": "stream",
     "text": [
      "/home/matheus/projects/marioai/notebooks\n",
      "Connection attempt: 1/5\n",
      "Connection attempt: 2/5\n",
      "Connection attempt: 3/5\n"
     ]
    },
    {
     "ename": "KeyboardInterrupt",
     "evalue": "",
     "output_type": "error",
     "traceback": [
      "\u001b[0;31m---------------------------------------------------------------------------\u001b[0m",
      "\u001b[0;31mKeyboardInterrupt\u001b[0m                         Traceback (most recent call last)",
      "\u001b[1;32m/home/matheus/projects/marioai/notebooks/monte_carlo.ipynb Cell 5'\u001b[0m in \u001b[0;36m<cell line: 2>\u001b[0;34m()\u001b[0m\n\u001b[1;32m      <a href='vscode-notebook-cell:/home/matheus/projects/marioai/notebooks/monte_carlo.ipynb#ch0000003?line=0'>1</a>\u001b[0m runner \u001b[39m=\u001b[39m Runner(mc_model, level_difficult\u001b[39m=\u001b[39m\u001b[39m0\u001b[39m, mario_mode\u001b[39m=\u001b[39m\u001b[39m0\u001b[39m, time_limit\u001b[39m=\u001b[39m\u001b[39m100\u001b[39m, response_delay\u001b[39m=\u001b[39m\u001b[39m0\u001b[39m, max_fps\u001b[39m=\u001b[39m\u001b[39m24\u001b[39m)\n\u001b[0;32m----> <a href='vscode-notebook-cell:/home/matheus/projects/marioai/notebooks/monte_carlo.ipynb#ch0000003?line=1'>2</a>\u001b[0m runner\u001b[39m.\u001b[39;49mrun()\n\u001b[1;32m      <a href='vscode-notebook-cell:/home/matheus/projects/marioai/notebooks/monte_carlo.ipynb#ch0000003?line=2'>3</a>\u001b[0m runner\u001b[39m.\u001b[39mclose()\n",
      "File \u001b[0;32m~/projects/marioai/marioai/core/runner.py:57\u001b[0m, in \u001b[0;36mRunner.run\u001b[0;34m(self)\u001b[0m\n\u001b[1;32m     <a href='file:///home/matheus/projects/marioai/marioai/core/runner.py?line=51'>52</a>\u001b[0m \u001b[39mdef\u001b[39;00m \u001b[39mrun\u001b[39m(\u001b[39mself\u001b[39m) \u001b[39m-\u001b[39m\u001b[39m>\u001b[39m List:\n\u001b[1;32m     <a href='file:///home/matheus/projects/marioai/marioai/core/runner.py?line=52'>53</a>\u001b[0m     \u001b[39m\"\"\"This function execute a game\u001b[39;00m\n\u001b[1;32m     <a href='file:///home/matheus/projects/marioai/marioai/core/runner.py?line=53'>54</a>\u001b[0m \u001b[39m    Returns:\u001b[39;00m\n\u001b[1;32m     <a href='file:///home/matheus/projects/marioai/marioai/core/runner.py?line=54'>55</a>\u001b[0m \u001b[39m        List: Rewards\u001b[39;00m\n\u001b[1;32m     <a href='file:///home/matheus/projects/marioai/marioai/core/runner.py?line=55'>56</a>\u001b[0m \u001b[39m    \"\"\"\u001b[39;00m\n\u001b[0;32m---> <a href='file:///home/matheus/projects/marioai/marioai/core/runner.py?line=56'>57</a>\u001b[0m     rewards \u001b[39m=\u001b[39m \u001b[39mself\u001b[39;49m\u001b[39m.\u001b[39;49mexp\u001b[39m.\u001b[39;49mdo_episodes()\n\u001b[1;32m     <a href='file:///home/matheus/projects/marioai/marioai/core/runner.py?line=57'>58</a>\u001b[0m     \u001b[39mreturn\u001b[39;00m rewards\n",
      "File \u001b[0;32m~/projects/marioai/marioai/core/experiment.py:49\u001b[0m, in \u001b[0;36mExperiment.do_episodes\u001b[0;34m(self, n)\u001b[0m\n\u001b[1;32m     <a href='file:///home/matheus/projects/marioai/marioai/core/experiment.py?line=45'>46</a>\u001b[0m rewards \u001b[39m=\u001b[39m []\n\u001b[1;32m     <a href='file:///home/matheus/projects/marioai/marioai/core/experiment.py?line=47'>48</a>\u001b[0m \u001b[39mfor\u001b[39;00m _ \u001b[39min\u001b[39;00m \u001b[39mrange\u001b[39m(n):\n\u001b[0;32m---> <a href='file:///home/matheus/projects/marioai/marioai/core/experiment.py?line=48'>49</a>\u001b[0m     rewards\u001b[39m.\u001b[39mappend(\u001b[39mself\u001b[39;49m\u001b[39m.\u001b[39;49m_episode())\n\u001b[1;32m     <a href='file:///home/matheus/projects/marioai/marioai/core/experiment.py?line=49'>50</a>\u001b[0m \u001b[39mreturn\u001b[39;00m rewards\n",
      "File \u001b[0;32m~/projects/marioai/marioai/core/experiment.py:41\u001b[0m, in \u001b[0;36mExperiment._episode\u001b[0;34m(self)\u001b[0m\n\u001b[1;32m     <a href='file:///home/matheus/projects/marioai/marioai/core/experiment.py?line=37'>38</a>\u001b[0m     rewards\u001b[39m.\u001b[39mappend(r)\n\u001b[1;32m     <a href='file:///home/matheus/projects/marioai/marioai/core/experiment.py?line=39'>40</a>\u001b[0m     \u001b[39mif\u001b[39;00m \u001b[39mself\u001b[39m\u001b[39m.\u001b[39mmax_fps \u001b[39m>\u001b[39m \u001b[39m0\u001b[39m:\n\u001b[0;32m---> <a href='file:///home/matheus/projects/marioai/marioai/core/experiment.py?line=40'>41</a>\u001b[0m         time\u001b[39m.\u001b[39;49msleep(\u001b[39m1.0\u001b[39;49m \u001b[39m/\u001b[39;49m \u001b[39mself\u001b[39;49m\u001b[39m.\u001b[39;49mmax_fps)\n\u001b[1;32m     <a href='file:///home/matheus/projects/marioai/marioai/core/experiment.py?line=42'>43</a>\u001b[0m \u001b[39mreturn\u001b[39;00m rewards\n",
      "\u001b[0;31mKeyboardInterrupt\u001b[0m: "
     ]
    }
   ],
   "source": [
    "runner = Runner(mc_model, level_difficult=0, mario_mode=0, time_limit=100, response_delay=0, max_fps=24)\n",
    "runner.run()\n",
    "runner.close()"
   ]
  }
 ],
 "metadata": {
  "interpreter": {
   "hash": "0f56ba656b6a41780ba7317ba28820dc2482646c95046f4846d315c8b59fc98c"
  },
  "kernelspec": {
   "display_name": "Python 3.8.10 ('venv': venv)",
   "language": "python",
   "name": "python3"
  },
  "language_info": {
   "codemirror_mode": {
    "name": "ipython",
    "version": 3
   },
   "file_extension": ".py",
   "mimetype": "text/x-python",
   "name": "python",
   "nbconvert_exporter": "python",
   "pygments_lexer": "ipython3",
   "version": "3.8.10"
  },
  "orig_nbformat": 4
 },
 "nbformat": 4,
 "nbformat_minor": 2
}
